{
 "cells": [
  {
   "cell_type": "markdown",
   "id": "e302551e-f377-4d0d-adab-00331ae79cbf",
   "metadata": {},
   "source": [
    "### PERFORMING THE SIMPLE LINEAR REGRESSION PROJECT USING ORDINARY LEAST SQUARES METHOD USING \n",
    "### SALARY DATASET"
   ]
  },
  {
   "cell_type": "code",
   "execution_count": 35,
   "id": "bbaf0d7e-656e-4e79-aff4-0b57001d3c54",
   "metadata": {},
   "outputs": [],
   "source": [
    "#### STEP 1 : IMPORT NECESSARY LIBRARIES\n",
    "import numpy as np\n",
    "import pandas as pd\n",
    "import matplotlib.pyplot as plt\n",
    "import seaborn as sns\n",
    "import statsmodels.api as sm"
   ]
  },
  {
   "cell_type": "code",
   "execution_count": 36,
   "id": "ff3e1eed-9bf6-4016-9955-c4a6fff47e9a",
   "metadata": {},
   "outputs": [
    {
     "data": {
      "text/html": [
       "<div>\n",
       "<style scoped>\n",
       "    .dataframe tbody tr th:only-of-type {\n",
       "        vertical-align: middle;\n",
       "    }\n",
       "\n",
       "    .dataframe tbody tr th {\n",
       "        vertical-align: top;\n",
       "    }\n",
       "\n",
       "    .dataframe thead th {\n",
       "        text-align: right;\n",
       "    }\n",
       "</style>\n",
       "<table border=\"1\" class=\"dataframe\">\n",
       "  <thead>\n",
       "    <tr style=\"text-align: right;\">\n",
       "      <th></th>\n",
       "      <th>YearsExperience</th>\n",
       "      <th>Salary</th>\n",
       "    </tr>\n",
       "  </thead>\n",
       "  <tbody>\n",
       "    <tr>\n",
       "      <th>0</th>\n",
       "      <td>1.1</td>\n",
       "      <td>39343.0</td>\n",
       "    </tr>\n",
       "    <tr>\n",
       "      <th>1</th>\n",
       "      <td>1.3</td>\n",
       "      <td>46205.0</td>\n",
       "    </tr>\n",
       "    <tr>\n",
       "      <th>2</th>\n",
       "      <td>1.5</td>\n",
       "      <td>37731.0</td>\n",
       "    </tr>\n",
       "    <tr>\n",
       "      <th>3</th>\n",
       "      <td>2.0</td>\n",
       "      <td>43525.0</td>\n",
       "    </tr>\n",
       "    <tr>\n",
       "      <th>4</th>\n",
       "      <td>2.2</td>\n",
       "      <td>39891.0</td>\n",
       "    </tr>\n",
       "  </tbody>\n",
       "</table>\n",
       "</div>"
      ],
      "text/plain": [
       "   YearsExperience   Salary\n",
       "0              1.1  39343.0\n",
       "1              1.3  46205.0\n",
       "2              1.5  37731.0\n",
       "3              2.0  43525.0\n",
       "4              2.2  39891.0"
      ]
     },
     "execution_count": 36,
     "metadata": {},
     "output_type": "execute_result"
    }
   ],
   "source": [
    "#### STEP 2 : LOADING THE DATASET\n",
    "df = pd.read_csv(\"Salary_Data.csv\")\n",
    "df.head()\n"
   ]
  },
  {
   "cell_type": "code",
   "execution_count": 37,
   "id": "90b638d2-5bc0-41fb-8913-76d380f126c4",
   "metadata": {},
   "outputs": [],
   "source": [
    "#### STEP 3 : SLICING THE FEATURES AND TARGET COLUMN\n",
    "X = df['YearsExperience'].values\n",
    "y = df['Salary'].values\n",
    "\n",
    "X = X.reshape(-1, 1)"
   ]
  },
  {
   "cell_type": "code",
   "execution_count": 38,
   "id": "83f7fba9-6a8c-41a4-b6b4-731f9bc61239",
   "metadata": {},
   "outputs": [
    {
     "name": "stdout",
     "output_type": "stream",
     "text": [
      "(30, 1)\n",
      "(30,)\n"
     ]
    }
   ],
   "source": [
    "print(X.shape)\n",
    "print(y.shape)"
   ]
  },
  {
   "cell_type": "code",
   "execution_count": 39,
   "id": "4ba1d277-c561-4fb3-a3d5-ba821b345814",
   "metadata": {},
   "outputs": [
    {
     "data": {
      "text/plain": [
       "array([[ 1. ,  1.1],\n",
       "       [ 1. ,  1.3],\n",
       "       [ 1. ,  1.5],\n",
       "       [ 1. ,  2. ],\n",
       "       [ 1. ,  2.2],\n",
       "       [ 1. ,  2.9],\n",
       "       [ 1. ,  3. ],\n",
       "       [ 1. ,  3.2],\n",
       "       [ 1. ,  3.2],\n",
       "       [ 1. ,  3.7],\n",
       "       [ 1. ,  3.9],\n",
       "       [ 1. ,  4. ],\n",
       "       [ 1. ,  4. ],\n",
       "       [ 1. ,  4.1],\n",
       "       [ 1. ,  4.5],\n",
       "       [ 1. ,  4.9],\n",
       "       [ 1. ,  5.1],\n",
       "       [ 1. ,  5.3],\n",
       "       [ 1. ,  5.9],\n",
       "       [ 1. ,  6. ],\n",
       "       [ 1. ,  6.8],\n",
       "       [ 1. ,  7.1],\n",
       "       [ 1. ,  7.9],\n",
       "       [ 1. ,  8.2],\n",
       "       [ 1. ,  8.7],\n",
       "       [ 1. ,  9. ],\n",
       "       [ 1. ,  9.5],\n",
       "       [ 1. ,  9.6],\n",
       "       [ 1. , 10.3],\n",
       "       [ 1. , 10.5]])"
      ]
     },
     "execution_count": 39,
     "metadata": {},
     "output_type": "execute_result"
    }
   ],
   "source": [
    "#### STEP 4 : ADDING THE CONSTANT TO THE MODEL\n",
    "X_with_intercept = sm.add_constant(X)\n",
    "X_with_intercept"
   ]
  },
  {
   "cell_type": "code",
   "execution_count": 40,
   "id": "1343b615-62aa-46c4-bcc4-28ace5be7f12",
   "metadata": {},
   "outputs": [
    {
     "name": "stdout",
     "output_type": "stream",
     "text": [
      "                            OLS Regression Results                            \n",
      "==============================================================================\n",
      "Dep. Variable:                      y   R-squared:                       0.957\n",
      "Model:                            OLS   Adj. R-squared:                  0.955\n",
      "Method:                 Least Squares   F-statistic:                     622.5\n",
      "Date:                Tue, 31 Dec 2024   Prob (F-statistic):           1.14e-20\n",
      "Time:                        23:08:22   Log-Likelihood:                -301.44\n",
      "No. Observations:                  30   AIC:                             606.9\n",
      "Df Residuals:                      28   BIC:                             609.7\n",
      "Df Model:                           1                                         \n",
      "Covariance Type:            nonrobust                                         \n",
      "==============================================================================\n",
      "                 coef    std err          t      P>|t|      [0.025      0.975]\n",
      "------------------------------------------------------------------------------\n",
      "const       2.579e+04   2273.053     11.347      0.000    2.11e+04    3.04e+04\n",
      "x1          9449.9623    378.755     24.950      0.000    8674.119    1.02e+04\n",
      "==============================================================================\n",
      "Omnibus:                        2.140   Durbin-Watson:                   1.648\n",
      "Prob(Omnibus):                  0.343   Jarque-Bera (JB):                1.569\n",
      "Skew:                           0.363   Prob(JB):                        0.456\n",
      "Kurtosis:                       2.147   Cond. No.                         13.2\n",
      "==============================================================================\n",
      "\n",
      "Notes:\n",
      "[1] Standard Errors assume that the covariance matrix of the errors is correctly specified.\n"
     ]
    }
   ],
   "source": [
    "#### STEP 5 : FITTING THE MODEL USING OLS \n",
    "model = sm.OLS(y, X_with_intercept)\n",
    "results = model.fit()\n",
    "\n",
    "print(results.summary())"
   ]
  },
  {
   "cell_type": "markdown",
   "id": "2615d9d8-ca74-463e-85f2-37f69839fff6",
   "metadata": {},
   "source": [
    "#### The model explains 95.7% of the variance in the target variable, indicating a strong fit. The coefficients are \n",
    "#### statistically significant, and the residuals appear normally distributed, making the model a good predictor."
   ]
  },
  {
   "cell_type": "code",
   "execution_count": 41,
   "id": "89b50406-9e68-444f-a722-1e879c96719e",
   "metadata": {},
   "outputs": [
    {
     "name": "stdout",
     "output_type": "stream",
     "text": [
      "Bias estimator: 25792.200198668685\n",
      "Regression Coefficient estimator: 9449.96232145508\n"
     ]
    }
   ],
   "source": [
    "#### STEP 6 : EXTRACTING THE ESTIMATORS\n",
    "beta_0 = results.params[0]  # Intercept\n",
    "beta_1 = results.params[1]  # Slope\n",
    "print(\"Bias estimator:\", beta_0)\n",
    "print(\"Regression Coefficient estimator:\", beta_1)"
   ]
  },
  {
   "cell_type": "code",
   "execution_count": 42,
   "id": "3515aa5e-47e1-471b-867f-9b5a2d769534",
   "metadata": {},
   "outputs": [
    {
     "data": {
      "text/plain": [
       "array([ 36187.15875227,  38077.15121656,  39967.14368085,  44692.12484158,\n",
       "        46582.11730587,  53197.09093089,  54142.08716303,  56032.07962732,\n",
       "        56032.07962732,  60757.06078805,  62647.05325234,  63592.04948449,\n",
       "        63592.04948449,  64537.04571663,  68317.03064522,  72097.0155738 ,\n",
       "        73987.00803809,  75877.00050238,  81546.97789525,  82491.9741274 ,\n",
       "        90051.94398456,  92886.932681  , 100446.90253816, 103281.8912346 ,\n",
       "       108006.87239533, 110841.86109176, 115566.84225249, 116511.83848464,\n",
       "       123126.81210966, 125016.80457395])"
      ]
     },
     "execution_count": 42,
     "metadata": {},
     "output_type": "execute_result"
    }
   ],
   "source": [
    "#### STEP 7 : MODEL PREDICTION\n",
    "y_pred = results.predict(X_with_intercept)\n",
    "y_pred"
   ]
  },
  {
   "cell_type": "code",
   "execution_count": 43,
   "id": "a2c06226-c8f2-41f4-98ae-0742a6def3a9",
   "metadata": {},
   "outputs": [
    {
     "data": {
      "image/png": "[encoded data removed]",
      "text/plain": [
       "<Figure size 640x480 with 1 Axes>"
      ]
     },
     "metadata": {},
     "output_type": "display_data"
    }
   ],
   "source": [
    "#### STEP 8 : PLOTTING THE DATA AND REGRESSION LINE\n",
    "plt.scatter(X, y, color='blue', label='Actual Data')\n",
    "plt.plot(X, y_pred, color='red', label='OLS Regression Line')\n",
    "plt.xlabel('Years of Experience')\n",
    "plt.ylabel('Salary')\n",
    "plt.title('Simple Linear Regression using OLS (Salary Dataset)')\n",
    "plt.legend()\n",
    "plt.show()"
   ]
  },
  {
   "cell_type": "code",
   "execution_count": 44,
   "id": "8856188e-2102-4a5a-b9f4-633ff42031e3",
   "metadata": {},
   "outputs": [
    {
     "name": "stdout",
     "output_type": "stream",
     "text": [
      "Standard Error for intercept: 2273.0534325816043\n",
      "Standard Error for slope: 378.7545742388211\n"
     ]
    }
   ],
   "source": [
    "#### STEP 9 : EXTRACTING THE STANDARD ERRORS\n",
    "std_err = results.bse\n",
    "std_err_intercept = std_err[0]  # Standard error for intercept\n",
    "std_err_slope = std_err[1] # Standard error for regression coefficient\n",
    "print(\"Standard Error for intercept:\", std_err_intercept)\n",
    "print(\"Standard Error for slope:\", std_err_slope)"
   ]
  },
  {
   "cell_type": "code",
   "execution_count": 45,
   "id": "c098577b-5b2f-408c-9d50-f16db183d661",
   "metadata": {},
   "outputs": [
    {
     "name": "stdout",
     "output_type": "stream",
     "text": [
      "Estimated Error variance: 33504591.131015327\n"
     ]
    }
   ],
   "source": [
    "#### STEP 10 : ESTIMATING THE ERROR VARIANCE\n",
    "rss = np.sum(results.resid**2)\n",
    "sigma_squared_hat = rss / results.df_resid\n",
    "print(\"Estimated Error variance:\", sigma_squared_hat)"
   ]
  },
  {
   "cell_type": "code",
   "execution_count": 46,
   "id": "614547eb-9186-4df0-adb6-4eefc2a401fe",
   "metadata": {},
   "outputs": [
    {
     "name": "stdout",
     "output_type": "stream",
     "text": [
      "Confidence Intervals of bias: [21136.06131369 30448.33908365]\n",
      "Confidence Intervls of regression coefficient: [ 8674.1187466  10225.80589631]\n"
     ]
    }
   ],
   "source": [
    "#### STEP 11 : COMPUTING THE CONFIDENCE INTERVALS OF BIAS AND REGRESSION COEFFICEINT RESPECTIVELY EACH WITH CONFIDENCE COEFFICIENT OF 95%\n",
    "confidence_intervals = results.conf_int(alpha=0.05)\n",
    "print(\"Confidence Intervals of bias:\", confidence_intervals[0])\n",
    "print(\"Confidence Intervls of regression coefficient:\", confidence_intervals[1])"
   ]
  },
  {
   "cell_type": "code",
   "execution_count": null,
   "id": "4b9bb946-f162-4245-be41-9efd2aec0b51",
   "metadata": {},
   "outputs": [],
   "source": []
  }
 ],
 "metadata": {
  "kernelspec": {
   "display_name": "Python 3 (ipykernel)",
   "language": "python",
   "name": "python3"
  },
  "language_info": {
   "codemirror_mode": {
    "name": "ipython",
    "version": 3
   },
   "file_extension": ".py",
   "mimetype": "text/x-python",
   "name": "python",
   "nbconvert_exporter": "python",
   "pygments_lexer": "ipython3",
   "version": "3.12.7"
  }
 },
 "nbformat": 4,
 "nbformat_minor": 5
}
